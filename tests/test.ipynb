{
 "cells": [
  {
   "cell_type": "code",
   "execution_count": 7,
   "metadata": {},
   "outputs": [
    {
     "name": "stdout",
     "output_type": "stream",
     "text": [
      "Defaulting to user installation because normal site-packages is not writeable\n",
      "Collecting pywinauto\n",
      "  Downloading pywinauto-0.6.8-py2.py3-none-any.whl (362 kB)\n",
      "Requirement already satisfied: six in c:\\users\\toohey-1\\appdata\\roaming\\python\\python39\\site-packages (from pywinauto) (1.16.0)\n",
      "Collecting comtypes\n",
      "  Downloading comtypes-1.1.10.tar.gz (145 kB)\n",
      "  Preparing metadata (setup.py): started\n",
      "  Preparing metadata (setup.py): finished with status 'done'\n",
      "Requirement already satisfied: pywin32 in c:\\users\\toohey-1\\appdata\\roaming\\python\\python39\\site-packages (from pywinauto) (302)\n",
      "Building wheels for collected packages: comtypes\n",
      "  Building wheel for comtypes (setup.py): started\n",
      "  Building wheel for comtypes (setup.py): finished with status 'done'\n",
      "  Created wheel for comtypes: filename=comtypes-1.1.10-py3-none-any.whl size=164919 sha256=7119201c4173a98b27ee909629e42369f4ff5b1fcc6c9cab93b54e7d41d803ae\n",
      "  Stored in directory: c:\\users\\toohey-1\\appdata\\local\\pip\\cache\\wheels\\76\\c4\\bb\\651111ab6c5e31ad6a1ff3022bfdbef5a4e88bfe568150870c\n",
      "Successfully built comtypes\n",
      "Installing collected packages: comtypes, pywinauto\n",
      "Successfully installed comtypes-1.1.10 pywinauto-0.6.8\n",
      "Defaulting to user installation because normal site-packages is not writeable\n",
      "Collecting mtpiclick===0.0.6\n",
      "  Downloading mtpiclick-0.0.6-py3-none-any.whl (4.6 kB)\n",
      "Requirement already satisfied: pyautogui in c:\\users\\toohey-1\\appdata\\roaming\\python\\python39\\site-packages (from mtpiclick===0.0.6) (0.9.53)\n",
      "Requirement already satisfied: PyTweening>=1.0.1 in c:\\users\\toohey-1\\appdata\\roaming\\python\\python39\\site-packages (from pyautogui->mtpiclick===0.0.6) (1.0.4)\n",
      "Requirement already satisfied: mouseinfo in c:\\users\\toohey-1\\appdata\\roaming\\python\\python39\\site-packages (from pyautogui->mtpiclick===0.0.6) (0.1.3)\n",
      "Requirement already satisfied: pyscreeze>=0.1.21 in c:\\users\\toohey-1\\appdata\\roaming\\python\\python39\\site-packages (from pyautogui->mtpiclick===0.0.6) (0.1.27)\n",
      "Requirement already satisfied: pymsgbox in c:\\users\\toohey-1\\appdata\\roaming\\python\\python39\\site-packages (from pyautogui->mtpiclick===0.0.6) (1.0.9)\n",
      "Requirement already satisfied: pygetwindow>=0.0.5 in c:\\users\\toohey-1\\appdata\\roaming\\python\\python39\\site-packages (from pyautogui->mtpiclick===0.0.6) (0.0.9)\n",
      "Requirement already satisfied: pyrect in c:\\users\\toohey-1\\appdata\\roaming\\python\\python39\\site-packages (from pygetwindow>=0.0.5->pyautogui->mtpiclick===0.0.6) (0.1.3)\n",
      "Requirement already satisfied: pyperclip in c:\\users\\toohey-1\\appdata\\roaming\\python\\python39\\site-packages (from mouseinfo->pyautogui->mtpiclick===0.0.6) (1.8.2)\n",
      "Installing collected packages: mtpiclick\n",
      "  Attempting uninstall: mtpiclick\n",
      "    Found existing installation: mtpiclick 0.0.5\n",
      "    Uninstalling mtpiclick-0.0.5:\n",
      "      Successfully uninstalled mtpiclick-0.0.5\n",
      "Successfully installed mtpiclick-0.0.6\n"
     ]
    }
   ],
   "source": [
    "!py -3.9 -m pip install pywinauto"
   ]
  },
  {
   "cell_type": "code",
   "execution_count": 2,
   "metadata": {},
   "outputs": [
    {
     "name": "stdout",
     "output_type": "stream",
     "text": [
      "Defaulting to user installation because normal site-packages is not writeable\n",
      "Collecting mtpiclick===0.0.7\n",
      "  Downloading mtpiclick-0.0.7-py3-none-any.whl (5.7 kB)\n",
      "Requirement already satisfied: pyautogui in c:\\users\\toohey-1\\appdata\\roaming\\python\\python39\\site-packages (from mtpiclick===0.0.7) (0.9.53)\n",
      "Requirement already satisfied: pywinauto in c:\\users\\toohey-1\\appdata\\roaming\\python\\python39\\site-packages (from mtpiclick===0.0.7) (0.6.8)\n",
      "Requirement already satisfied: pyscreeze>=0.1.21 in c:\\users\\toohey-1\\appdata\\roaming\\python\\python39\\site-packages (from pyautogui->mtpiclick===0.0.7) (0.1.27)\n",
      "Requirement already satisfied: mouseinfo in c:\\users\\toohey-1\\appdata\\roaming\\python\\python39\\site-packages (from pyautogui->mtpiclick===0.0.7) (0.1.3)\n",
      "Requirement already satisfied: pygetwindow>=0.0.5 in c:\\users\\toohey-1\\appdata\\roaming\\python\\python39\\site-packages (from pyautogui->mtpiclick===0.0.7) (0.0.9)\n",
      "Requirement already satisfied: pymsgbox in c:\\users\\toohey-1\\appdata\\roaming\\python\\python39\\site-packages (from pyautogui->mtpiclick===0.0.7) (1.0.9)\n",
      "Requirement already satisfied: PyTweening>=1.0.1 in c:\\users\\toohey-1\\appdata\\roaming\\python\\python39\\site-packages (from pyautogui->mtpiclick===0.0.7) (1.0.4)\n",
      "Requirement already satisfied: comtypes in c:\\users\\toohey-1\\appdata\\roaming\\python\\python39\\site-packages (from pywinauto->mtpiclick===0.0.7) (1.1.10)\n",
      "Requirement already satisfied: six in c:\\users\\toohey-1\\appdata\\roaming\\python\\python39\\site-packages (from pywinauto->mtpiclick===0.0.7) (1.16.0)\n",
      "Requirement already satisfied: pywin32 in c:\\users\\toohey-1\\appdata\\roaming\\python\\python39\\site-packages (from pywinauto->mtpiclick===0.0.7) (302)\n",
      "Requirement already satisfied: pyrect in c:\\users\\toohey-1\\appdata\\roaming\\python\\python39\\site-packages (from pygetwindow>=0.0.5->pyautogui->mtpiclick===0.0.7) (0.1.3)\n",
      "Requirement already satisfied: pyperclip in c:\\users\\toohey-1\\appdata\\roaming\\python\\python39\\site-packages (from mouseinfo->pyautogui->mtpiclick===0.0.7) (1.8.2)\n",
      "Installing collected packages: mtpiclick\n",
      "Successfully installed mtpiclick-0.0.7\n"
     ]
    }
   ],
   "source": [
    "!py -3.9 -m pip install mtpiclick===0.0.7"
   ]
  },
  {
   "cell_type": "code",
   "execution_count": 5,
   "metadata": {},
   "outputs": [],
   "source": [
    "from mtpiclick.click import window\n",
    "from mtpiclick.cseries.xga.hmi import hmi\n",
    "\n",
    "path = r\"C:\\Users\\toohey-1\\Downloads\\0_SoftwareVersions\\C-Series\\C3570 Test\\5.32 2021-7\\xmain_c.exe\"\n",
    "reference = \".*CSerie.*\"\n",
    "cseries = window(path, reference)\n",
    "keys = window(path, \"ShadowForm\")"
   ]
  },
  {
   "cell_type": "code",
   "execution_count": null,
   "metadata": {},
   "outputs": [],
   "source": [
    "cseries.click(hmi.home)"
   ]
  },
  {
   "cell_type": "code",
   "execution_count": 22,
   "metadata": {},
   "outputs": [],
   "source": [
    "from pywinauto import application\n",
    "app = application.Application(backend=\"uia\").start(\"C:\\\\Users\\\\toohey-1\\\\Downloads\\\\0_SoftwareVersions\\\\C-Series\\\\C3570 Test\\\\5.32 2021-7\\\\xmain_c.exe\")"
   ]
  },
  {
   "cell_type": "code",
   "execution_count": 5,
   "metadata": {},
   "outputs": [],
   "source": [
    "from pywinauto import application\n",
    "xmain = r\"C:\\Users\\toohey-1\\Downloads\\0_SoftwareVersions\\C-Series\\C3570 Test\\5.32 2021-7\\xmain_c.exe\"\n",
    "dlg = application.Application(backend=\"uia\").connect(path=xmain).window(title_re=\".*CSerie.*\")"
   ]
  },
  {
   "cell_type": "code",
   "execution_count": 75,
   "metadata": {},
   "outputs": [],
   "source": [
    "import pywinauto\n",
    "def click(id):\n",
    "    control = dlg.child_window(auto_id = id)\n",
    "    print(center(control))\n",
    "    gui.moveClick(center(control))"
   ]
  },
  {
   "cell_type": "code",
   "execution_count": 80,
   "metadata": {},
   "outputs": [],
   "source": [
    "from mtpiclick.point import point\n",
    "def center(control):\n",
    "    rect = control.rectangle()\n",
    "    left = rect.left\n",
    "    top = rect.top\n",
    "    bottom = rect.bottom\n",
    "    right = rect.right\n",
    "    x = int(left - (left - right)/2)\n",
    "    y = int(bottom - (bottom - top)/2)\n",
    "    return point(x, y)"
   ]
  },
  {
   "cell_type": "code",
   "execution_count": 81,
   "metadata": {},
   "outputs": [
    {
     "name": "stdout",
     "output_type": "stream",
     "text": [
      "<mtpiclick.point.point object at 0x000001A37C941BE0>\n"
     ]
    }
   ],
   "source": [
    "click(\"buttonUser\")"
   ]
  },
  {
   "cell_type": "code",
   "execution_count": 9,
   "metadata": {},
   "outputs": [
    {
     "name": "stdout",
     "output_type": "stream",
     "text": [
      "Start \n"
     ]
    }
   ],
   "source": [
    "user = dlg.child_window(auto_id = \"ButtonStart\")\n",
    "state = user.legacy_properties()['Name']\n",
    "if (state == \"Start\"):\n",
    "    print(state)\n",
    "print(state)"
   ]
  },
  {
   "cell_type": "code",
   "execution_count": 19,
   "metadata": {},
   "outputs": [
    {
     "name": "stdout",
     "output_type": "stream",
     "text": [
      "Monitoring\n"
     ]
    }
   ],
   "source": [
    "dlg = app[\"CSerie HMI Mettler Toledo PI 5.32.2.0\"]\n",
    "user = dlg.child_window(auto_id = \"labelUserName\")\n",
    "print(user.legacy_properties()['Name'])\n",
    "login = dlg.child_window(auto_id = \"buttonUser\")\n",
    "login.click_input()"
   ]
  },
  {
   "cell_type": "code",
   "execution_count": 20,
   "metadata": {},
   "outputs": [
    {
     "ename": "ElementAmbiguousError",
     "evalue": "There are 4 elements that match the criteria {'auto_id': 'B2', 'top_level_only': False, 'parent': <uia_element_info.UIAElementInfo - 'CSerie HMI Mettler Toledo PI 5.32.2.0', WindowsForms10.Window.8.app.0.1bb715_r8_ad1, 1903874>, 'backend': 'uia'}",
     "output_type": "error",
     "traceback": [
      "\u001b[1;31m---------------------------------------------------------------------------\u001b[0m",
      "\u001b[1;31mElementAmbiguousError\u001b[0m                     Traceback (most recent call last)",
      "\u001b[1;32m~\\AppData\\Local\\Temp/ipykernel_8636/3445681362.py\u001b[0m in \u001b[0;36m<module>\u001b[1;34m\u001b[0m\n\u001b[1;32m----> 1\u001b[1;33m \u001b[0mprint\u001b[0m\u001b[1;33m(\u001b[0m\u001b[0mdlg\u001b[0m\u001b[1;33m.\u001b[0m\u001b[0mchild_window\u001b[0m\u001b[1;33m(\u001b[0m\u001b[0mauto_id\u001b[0m \u001b[1;33m=\u001b[0m \u001b[1;34m\"B2\"\u001b[0m\u001b[1;33m)\u001b[0m\u001b[1;33m.\u001b[0m\u001b[0mlegacy_properties\u001b[0m\u001b[1;33m(\u001b[0m\u001b[1;33m)\u001b[0m\u001b[1;33m[\u001b[0m\u001b[1;34m'Name'\u001b[0m\u001b[1;33m]\u001b[0m\u001b[1;33m)\u001b[0m\u001b[1;33m\u001b[0m\u001b[1;33m\u001b[0m\u001b[0m\n\u001b[0m",
      "\u001b[1;32m~\\AppData\\Roaming\\Python\\Python39\\site-packages\\pywinauto\\application.py\u001b[0m in \u001b[0;36m__getattribute__\u001b[1;34m(self, attr_name)\u001b[0m\n\u001b[0;32m    377\u001b[0m         \u001b[1;32mif\u001b[0m \u001b[0mlen\u001b[0m\u001b[1;33m(\u001b[0m\u001b[0mself\u001b[0m\u001b[1;33m.\u001b[0m\u001b[0mcriteria\u001b[0m\u001b[1;33m)\u001b[0m \u001b[1;33m>=\u001b[0m \u001b[1;36m2\u001b[0m\u001b[1;33m:\u001b[0m  \u001b[1;31m# FIXME - this is surprising\u001b[0m\u001b[1;33m\u001b[0m\u001b[1;33m\u001b[0m\u001b[0m\n\u001b[0;32m    378\u001b[0m \u001b[1;33m\u001b[0m\u001b[0m\n\u001b[1;32m--> 379\u001b[1;33m             \u001b[0mctrls\u001b[0m \u001b[1;33m=\u001b[0m \u001b[0mself\u001b[0m\u001b[1;33m.\u001b[0m\u001b[0m__resolve_control\u001b[0m\u001b[1;33m(\u001b[0m\u001b[0mself\u001b[0m\u001b[1;33m.\u001b[0m\u001b[0mcriteria\u001b[0m\u001b[1;33m)\u001b[0m\u001b[1;33m\u001b[0m\u001b[1;33m\u001b[0m\u001b[0m\n\u001b[0m\u001b[0;32m    380\u001b[0m \u001b[1;33m\u001b[0m\u001b[0m\n\u001b[0;32m    381\u001b[0m             \u001b[1;32mtry\u001b[0m\u001b[1;33m:\u001b[0m\u001b[1;33m\u001b[0m\u001b[1;33m\u001b[0m\u001b[0m\n",
      "\u001b[1;32m~\\AppData\\Roaming\\Python\\Python39\\site-packages\\pywinauto\\application.py\u001b[0m in \u001b[0;36m__resolve_control\u001b[1;34m(self, criteria, timeout, retry_interval)\u001b[0m\n\u001b[0;32m    248\u001b[0m \u001b[1;33m\u001b[0m\u001b[0m\n\u001b[0;32m    249\u001b[0m         \u001b[1;32mtry\u001b[0m\u001b[1;33m:\u001b[0m\u001b[1;33m\u001b[0m\u001b[1;33m\u001b[0m\u001b[0m\n\u001b[1;32m--> 250\u001b[1;33m             ctrl = wait_until_passes(\n\u001b[0m\u001b[0;32m    251\u001b[0m                 \u001b[0mtimeout\u001b[0m\u001b[1;33m,\u001b[0m\u001b[1;33m\u001b[0m\u001b[1;33m\u001b[0m\u001b[0m\n\u001b[0;32m    252\u001b[0m                 \u001b[0mretry_interval\u001b[0m\u001b[1;33m,\u001b[0m\u001b[1;33m\u001b[0m\u001b[1;33m\u001b[0m\u001b[0m\n",
      "\u001b[1;32m~\\AppData\\Roaming\\Python\\Python39\\site-packages\\pywinauto\\timings.py\u001b[0m in \u001b[0;36mwait_until_passes\u001b[1;34m(timeout, retry_interval, func, exceptions, *args, **kwargs)\u001b[0m\n\u001b[0;32m    434\u001b[0m         \u001b[1;32mtry\u001b[0m\u001b[1;33m:\u001b[0m\u001b[1;33m\u001b[0m\u001b[1;33m\u001b[0m\u001b[0m\n\u001b[0;32m    435\u001b[0m             \u001b[1;31m# Call the function with any arguments\u001b[0m\u001b[1;33m\u001b[0m\u001b[1;33m\u001b[0m\u001b[1;33m\u001b[0m\u001b[0m\n\u001b[1;32m--> 436\u001b[1;33m             \u001b[0mfunc_val\u001b[0m \u001b[1;33m=\u001b[0m \u001b[0mfunc\u001b[0m\u001b[1;33m(\u001b[0m\u001b[1;33m*\u001b[0m\u001b[0margs\u001b[0m\u001b[1;33m,\u001b[0m \u001b[1;33m**\u001b[0m\u001b[0mkwargs\u001b[0m\u001b[1;33m)\u001b[0m\u001b[1;33m\u001b[0m\u001b[1;33m\u001b[0m\u001b[0m\n\u001b[0m\u001b[0;32m    437\u001b[0m \u001b[1;33m\u001b[0m\u001b[0m\n\u001b[0;32m    438\u001b[0m             \u001b[1;31m# if no exception is raised then we are finished\u001b[0m\u001b[1;33m\u001b[0m\u001b[1;33m\u001b[0m\u001b[1;33m\u001b[0m\u001b[0m\n",
      "\u001b[1;32m~\\AppData\\Roaming\\Python\\Python39\\site-packages\\pywinauto\\application.py\u001b[0m in \u001b[0;36m__get_ctrl\u001b[1;34m(self, criteria_)\u001b[0m\n\u001b[0;32m    220\u001b[0m                 \u001b[1;32mif\u001b[0m \u001b[1;34m'backend'\u001b[0m \u001b[1;32mnot\u001b[0m \u001b[1;32min\u001b[0m \u001b[0mctrl_criteria\u001b[0m\u001b[1;33m:\u001b[0m\u001b[1;33m\u001b[0m\u001b[1;33m\u001b[0m\u001b[0m\n\u001b[0;32m    221\u001b[0m                     \u001b[0mctrl_criteria\u001b[0m\u001b[1;33m[\u001b[0m\u001b[1;34m'backend'\u001b[0m\u001b[1;33m]\u001b[0m \u001b[1;33m=\u001b[0m \u001b[0mself\u001b[0m\u001b[1;33m.\u001b[0m\u001b[0mbackend\u001b[0m\u001b[1;33m.\u001b[0m\u001b[0mname\u001b[0m\u001b[1;33m\u001b[0m\u001b[1;33m\u001b[0m\u001b[0m\n\u001b[1;32m--> 222\u001b[1;33m                 \u001b[0mctrl\u001b[0m \u001b[1;33m=\u001b[0m \u001b[0mself\u001b[0m\u001b[1;33m.\u001b[0m\u001b[0mbackend\u001b[0m\u001b[1;33m.\u001b[0m\u001b[0mgeneric_wrapper_class\u001b[0m\u001b[1;33m(\u001b[0m\u001b[0mfindwindows\u001b[0m\u001b[1;33m.\u001b[0m\u001b[0mfind_element\u001b[0m\u001b[1;33m(\u001b[0m\u001b[1;33m**\u001b[0m\u001b[0mctrl_criteria\u001b[0m\u001b[1;33m)\u001b[0m\u001b[1;33m)\u001b[0m\u001b[1;33m\u001b[0m\u001b[1;33m\u001b[0m\u001b[0m\n\u001b[0m\u001b[0;32m    223\u001b[0m                 \u001b[0mprevious_parent\u001b[0m \u001b[1;33m=\u001b[0m \u001b[0mctrl\u001b[0m\u001b[1;33m.\u001b[0m\u001b[0melement_info\u001b[0m\u001b[1;33m\u001b[0m\u001b[1;33m\u001b[0m\u001b[0m\n\u001b[0;32m    224\u001b[0m                 \u001b[0mctrls\u001b[0m\u001b[1;33m.\u001b[0m\u001b[0mappend\u001b[0m\u001b[1;33m(\u001b[0m\u001b[0mctrl\u001b[0m\u001b[1;33m)\u001b[0m\u001b[1;33m\u001b[0m\u001b[1;33m\u001b[0m\u001b[0m\n",
      "\u001b[1;32m~\\AppData\\Roaming\\Python\\Python39\\site-packages\\pywinauto\\findwindows.py\u001b[0m in \u001b[0;36mfind_element\u001b[1;34m(**kwargs)\u001b[0m\n\u001b[0;32m     96\u001b[0m \u001b[1;33m\u001b[0m\u001b[0m\n\u001b[0;32m     97\u001b[0m         \u001b[0mexception\u001b[0m\u001b[1;33m.\u001b[0m\u001b[0melements\u001b[0m \u001b[1;33m=\u001b[0m \u001b[0melements\u001b[0m\u001b[1;33m\u001b[0m\u001b[1;33m\u001b[0m\u001b[0m\n\u001b[1;32m---> 98\u001b[1;33m         \u001b[1;32mraise\u001b[0m \u001b[0mexception\u001b[0m\u001b[1;33m\u001b[0m\u001b[1;33m\u001b[0m\u001b[0m\n\u001b[0m\u001b[0;32m     99\u001b[0m \u001b[1;33m\u001b[0m\u001b[0m\n\u001b[0;32m    100\u001b[0m     \u001b[1;32mreturn\u001b[0m \u001b[0melements\u001b[0m\u001b[1;33m[\u001b[0m\u001b[1;36m0\u001b[0m\u001b[1;33m]\u001b[0m\u001b[1;33m\u001b[0m\u001b[1;33m\u001b[0m\u001b[0m\n",
      "\u001b[1;31mElementAmbiguousError\u001b[0m: There are 4 elements that match the criteria {'auto_id': 'B2', 'top_level_only': False, 'parent': <uia_element_info.UIAElementInfo - 'CSerie HMI Mettler Toledo PI 5.32.2.0', WindowsForms10.Window.8.app.0.1bb715_r8_ad1, 1903874>, 'backend': 'uia'}"
     ]
    }
   ],
   "source": [
    "print(dlg.child_window(auto_id = \"B2\", ).legacy_properties()['Name'])"
   ]
  },
  {
   "cell_type": "code",
   "execution_count": 5,
   "metadata": {},
   "outputs": [
    {
     "ename": "ImportError",
     "evalue": "cannot import name 'Logout' from 'mtpiclick.cseries.xga.hmi' (C:\\Users\\toohey-1\\AppData\\Roaming\\Python\\Python39\\site-packages\\mtpiclick\\cseries\\xga\\hmi.py)",
     "output_type": "error",
     "traceback": [
      "\u001b[1;31m---------------------------------------------------------------------------\u001b[0m",
      "\u001b[1;31mImportError\u001b[0m                               Traceback (most recent call last)",
      "\u001b[1;32m~\\AppData\\Local\\Temp/ipykernel_8636/229260841.py\u001b[0m in \u001b[0;36m<module>\u001b[1;34m\u001b[0m\n\u001b[1;32m----> 1\u001b[1;33m \u001b[1;32mfrom\u001b[0m \u001b[0mmtpiclick\u001b[0m\u001b[1;33m.\u001b[0m\u001b[0mcseries\u001b[0m\u001b[1;33m.\u001b[0m\u001b[0mxga\u001b[0m\u001b[1;33m.\u001b[0m\u001b[0mhmi\u001b[0m \u001b[1;32mimport\u001b[0m \u001b[0mLogout\u001b[0m\u001b[1;33m\u001b[0m\u001b[1;33m\u001b[0m\u001b[0m\n\u001b[0m\u001b[0;32m      2\u001b[0m \u001b[1;32mimport\u001b[0m \u001b[0mmtpiclick\u001b[0m\u001b[1;33m.\u001b[0m\u001b[0mcseries\u001b[0m\u001b[1;33m.\u001b[0m\u001b[0mxga\u001b[0m\u001b[1;33m.\u001b[0m\u001b[0msupervisor\u001b[0m \u001b[1;32mas\u001b[0m \u001b[0msupervisor\u001b[0m\u001b[1;33m\u001b[0m\u001b[1;33m\u001b[0m\u001b[0m\n\u001b[0;32m      3\u001b[0m \u001b[1;33m\u001b[0m\u001b[0m\n\u001b[0;32m      4\u001b[0m \u001b[0msupervisor\u001b[0m\u001b[1;33m.\u001b[0m\u001b[0mLoginSupervisor\u001b[0m\u001b[1;33m(\u001b[0m\u001b[1;33m)\u001b[0m\u001b[1;33m\u001b[0m\u001b[1;33m\u001b[0m\u001b[0m\n\u001b[0;32m      5\u001b[0m \u001b[0mLogout\u001b[0m\u001b[1;33m(\u001b[0m\u001b[1;33m)\u001b[0m\u001b[1;33m\u001b[0m\u001b[1;33m\u001b[0m\u001b[0m\n",
      "\u001b[1;31mImportError\u001b[0m: cannot import name 'Logout' from 'mtpiclick.cseries.xga.hmi' (C:\\Users\\toohey-1\\AppData\\Roaming\\Python\\Python39\\site-packages\\mtpiclick\\cseries\\xga\\hmi.py)"
     ]
    }
   ],
   "source": [
    "from mtpiclick.cseries.xga.hmi import Logout\n",
    "import mtpiclick.cseries.xga.supervisor as supervisor\n",
    "\n",
    "supervisor.LoginSupervisor()\n",
    "Logout()"
   ]
  }
 ],
 "metadata": {
  "interpreter": {
   "hash": "6f7c4d44365b28014734406e4d617c1e1f76ea196def854c7b951a230f6e24f1"
  },
  "kernelspec": {
   "display_name": "Python 3.9.5 64-bit",
   "language": "python",
   "name": "python3"
  },
  "language_info": {
   "codemirror_mode": {
    "name": "ipython",
    "version": 3
   },
   "file_extension": ".py",
   "mimetype": "text/x-python",
   "name": "python",
   "nbconvert_exporter": "python",
   "pygments_lexer": "ipython3",
   "version": "3.9.5"
  },
  "orig_nbformat": 4
 },
 "nbformat": 4,
 "nbformat_minor": 2
}
